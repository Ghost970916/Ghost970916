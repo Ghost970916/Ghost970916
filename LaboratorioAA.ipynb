{
  "nbformat": 4,
  "nbformat_minor": 0,
  "metadata": {
    "colab": {
      "provenance": [],
      "authorship_tag": "ABX9TyP3ktTMfwWyzbGgdpjDRLn/",
      "include_colab_link": true
    },
    "kernelspec": {
      "name": "python3",
      "display_name": "Python 3"
    },
    "language_info": {
      "name": "python"
    }
  },
  "cells": [
    {
      "cell_type": "markdown",
      "metadata": {
        "id": "view-in-github",
        "colab_type": "text"
      },
      "source": [
        "<a href=\"https://colab.research.google.com/github/Ghost970916/Ghost970916/blob/main/LaboratorioAA.ipynb\" target=\"_parent\"><img src=\"https://colab.research.google.com/assets/colab-badge.svg\" alt=\"Open In Colab\"/></a>"
      ]
    },
    {
      "cell_type": "markdown",
      "source": [
        "Ejercicio #1"
      ],
      "metadata": {
        "id": "PoCIk6nA-SzR"
      }
    },
    {
      "cell_type": "code",
      "execution_count": 3,
      "metadata": {
        "colab": {
          "base_uri": "https://localhost:8080/"
        },
        "id": "Y3a8beJi25XW",
        "outputId": "c48f245a-d39b-4dde-94fa-06f7b69d868d"
      },
      "outputs": [
        {
          "output_type": "stream",
          "name": "stdout",
          "text": [
            "x:\n",
            "[[1 2 3]\n",
            " [4 5 6]\n",
            " [7 8 9]]\n"
          ]
        }
      ],
      "source": [
        "import numpy as np\n",
        "\n",
        "x = np.array([[1,2,3],[4,5,6],[7,8,9]])\n",
        "print(\"x:\\n{}\".format(x))"
      ]
    },
    {
      "cell_type": "markdown",
      "source": [
        "Ejercicio #2"
      ],
      "metadata": {
        "id": "RV3QCmzf-WsM"
      }
    },
    {
      "cell_type": "code",
      "source": [
        "import numpy as np\n",
        "\n",
        "x = np.array([[1,1,1],[1,1,1],[1,1,1],[1,1,1],[1,1,1]])\n",
        "print(\"x:\\n{}\".format(x))"
      ],
      "metadata": {
        "colab": {
          "base_uri": "https://localhost:8080/"
        },
        "id": "kAa1Z02-3p-A",
        "outputId": "3969fe96-ce77-4cb9-89f6-bda2cc99b3b9"
      },
      "execution_count": 6,
      "outputs": [
        {
          "output_type": "stream",
          "name": "stdout",
          "text": [
            "x:\n",
            "[[1 1 1]\n",
            " [1 1 1]\n",
            " [1 1 1]\n",
            " [1 1 1]\n",
            " [1 1 1]]\n"
          ]
        }
      ]
    },
    {
      "cell_type": "markdown",
      "source": [
        "Ejercicio #3"
      ],
      "metadata": {
        "id": "-30ZL1cK-utu"
      }
    },
    {
      "cell_type": "code",
      "source": [
        "import pandas as pd\n",
        "\n",
        "\n",
        "myD1 = {\n",
        "  \"Ciudad\": [\"Habana\",\"Tokio\",\"Delhi\",\"São Paulo\",\"El Cairo\"],\n",
        "  \"Poblacion\": [80000,37270000,32060000, 22430000, 21750] ,\n",
        "  \"Pais\": [\"Cuba\",\"Japon\",\"India\",\"Brasil\",\"Egipto\"],\n",
        "}\n",
        "\n",
        "myDf = pd.DataFrame(myD1, index = [\"1\", \"2\", \"3\", \"4\", \"5\"])\n",
        "myDf\n",
        "\n",
        "\n"
      ],
      "metadata": {
        "id": "Qvf7u8aM4rnF"
      },
      "execution_count": null,
      "outputs": []
    }
  ]
}